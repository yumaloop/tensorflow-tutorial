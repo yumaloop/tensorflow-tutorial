{
 "cells": [
  {
   "cell_type": "code",
   "execution_count": 9,
   "metadata": {},
   "outputs": [],
   "source": [
    "import tensorflow as tf\n",
    "import numpy as np\n",
    "\n",
    "# https://qiita.com/icoxfog417/items/fb5c24e35a849f8e2c5d"
   ]
  },
  {
   "cell_type": "code",
   "execution_count": 3,
   "metadata": {},
   "outputs": [],
   "source": [
    "trX = np.linspace(-1, 1, 101)\n",
    "trY = 2 * trX + 3 + np.random.randn(* trX.shape) * 0.33\n",
    "\n",
    "# 線形回帰モデル\n",
    "def lin_model(X, w, b):\n",
    "    return X * w + b"
   ]
  },
  {
   "cell_type": "code",
   "execution_count": 4,
   "metadata": {},
   "outputs": [],
   "source": [
    "w = tf.Variable([0.])\n",
    "b = tf.Variable([0.])\n",
    "x = tf.placeholder(tf.float32, shape=(101))\n",
    "y = tf.placeholder(tf.float32, shape=(101))"
   ]
  },
  {
   "cell_type": "code",
   "execution_count": 5,
   "metadata": {},
   "outputs": [],
   "source": [
    "y_hypo = lin_model(x, w, b)\n",
    "\n",
    "#二乗誤差関数\n",
    "cost   = tf.reduce_mean(tf.square(y_hypo - y))"
   ]
  },
  {
   "cell_type": "code",
   "execution_count": 6,
   "metadata": {},
   "outputs": [],
   "source": [
    "train_step = tf.train.GradientDescentOptimizer(0.01).minimize(cost)"
   ]
  },
  {
   "cell_type": "code",
   "execution_count": 7,
   "metadata": {},
   "outputs": [
    {
     "name": "stdout",
     "output_type": "stream",
     "text": [
      "WARNING:tensorflow:From /Users/uchiumi/.pyenv/versions/3.6.6/envs/od/lib/python3.6/site-packages/tensorflow/python/util/tf_should_use.py:118: initialize_all_variables (from tensorflow.python.ops.variables) is deprecated and will be removed after 2017-03-02.\n",
      "Instructions for updating:\n",
      "Use `tf.global_variables_initializer` instead.\n"
     ]
    }
   ],
   "source": [
    "init = tf.initialize_all_variables()\n",
    "\n",
    "# tf.Variable() ----------初期化が必要．\n",
    "# tf.placeholder() -----初期化が不要．（あとで実体とアサインされる）\n",
    "# tf.constant-----------初期化が不要．"
   ]
  },
  {
   "cell_type": "code",
   "execution_count": 8,
   "metadata": {},
   "outputs": [
    {
     "name": "stdout",
     "output_type": "stream",
     "text": [
      "    0: (w, d) = (    0.0136,     0.0603)\n",
      "  100: (w, d) = (    0.9942,     2.6233)\n",
      "  200: (w, d) = (    1.4898,     2.9633)\n",
      "  300: (w, d) = (    1.7403,     3.0083)\n",
      "  400: (w, d) = (    1.8669,     3.0143)\n",
      "  500: (w, d) = (    1.9309,     3.0151)\n",
      "  600: (w, d) = (    1.9633,     3.0152)\n",
      "  700: (w, d) = (    1.9796,     3.0152)\n",
      "  800: (w, d) = (    1.9879,     3.0152)\n",
      "  900: (w, d) = (    1.9921,     3.0152)\n",
      " 1000: (w, d) = (    1.9942,     3.0152)\n"
     ]
    }
   ],
   "source": [
    "# Train\n",
    "with tf.Session() as sess:\n",
    "    sess.run(init)\n",
    "    for i in range(1001):\n",
    "        sess.run(train_step, feed_dict = {x: trX, y: trY})\n",
    "        if i % 100 == 0:\n",
    "            print(\"%5d: (w, d) = (%10.4f, %10.4f)\" % (i, sess.run(w), sess.run(b)))"
   ]
  },
  {
   "cell_type": "code",
   "execution_count": null,
   "metadata": {},
   "outputs": [],
   "source": []
  }
 ],
 "metadata": {
  "kernelspec": {
   "display_name": "Python 3",
   "language": "python",
   "name": "python3"
  },
  "language_info": {
   "codemirror_mode": {
    "name": "ipython",
    "version": 3
   },
   "file_extension": ".py",
   "mimetype": "text/x-python",
   "name": "python",
   "nbconvert_exporter": "python",
   "pygments_lexer": "ipython3",
   "version": "3.6.6"
  }
 },
 "nbformat": 4,
 "nbformat_minor": 2
}
